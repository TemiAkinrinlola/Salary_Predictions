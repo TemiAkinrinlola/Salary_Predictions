{
  "nbformat": 4,
  "nbformat_minor": 0,
  "metadata": {
    "colab": {
      "name": "Salary_Prediction.ipynb",
      "provenance": [],
      "collapsed_sections": []
    },
    "kernelspec": {
      "name": "python3",
      "display_name": "Python 3"
    }
  },
  "cells": [
    {
      "cell_type": "markdown",
      "metadata": {
        "id": "AnBUGPZ7hNHL"
      },
      "source": [
        "**SALARY PREDICTION**"
      ]
    },
    {
      "cell_type": "markdown",
      "metadata": {
        "id": "xHdGar2JhN8T"
      },
      "source": [
        "This model predicts the future salaries of employees."
      ]
    },
    {
      "cell_type": "code",
      "metadata": {
        "id": "0pBBJ-29hOxR"
      },
      "source": [
        "#importing the necessary libaries\n",
        "import pandas as pd\n",
        "import numpy as np\n",
        "import matplotlib.pyplot as plt\n",
        "import seaborn as sns\n"
      ],
      "execution_count": 4,
      "outputs": []
    },
    {
      "cell_type": "markdown",
      "metadata": {
        "id": "Kpk1aJKSh09z"
      },
      "source": [
        "Load the datasets"
      ]
    },
    {
      "cell_type": "code",
      "metadata": {
        "id": "UFz3EJRRh4iA"
      },
      "source": [
        "#loading the datasets from its path\n",
        "\n",
        "train_features = pd.read_csv(\"train_features.csv\")\n",
        "train_salaries =pd.read_csv(\"train_salaries.csv\")\n",
        "test_features =pd.read_csv(\"test_features.csv\")\n"
      ],
      "execution_count": null,
      "outputs": []
    },
    {
      "cell_type": "markdown",
      "metadata": {
        "id": "t2MbkpnpnkCc"
      },
      "source": [
        "Merge the training datasets"
      ]
    },
    {
      "cell_type": "code",
      "metadata": {
        "id": "habMR7OunrQC"
      },
      "source": [
        "dataset_df = pd.merge(train_features,train_salaries,on=\"jobId\")"
      ],
      "execution_count": 6,
      "outputs": []
    },
    {
      "cell_type": "markdown",
      "metadata": {
        "id": "odSb2-1pi9oc"
      },
      "source": [
        "**Data Discovery**"
      ]
    },
    {
      "cell_type": "code",
      "metadata": {
        "id": "UgQ76FeqjAx0",
        "outputId": "43988c37-346b-4682-f0c5-b1cd336866a1",
        "colab": {
          "base_uri": "https://localhost:8080/",
          "height": 224
        }
      },
      "source": [
        "#previewing the first few rows\n",
        "dataset_df.head()"
      ],
      "execution_count": 7,
      "outputs": [
        {
          "output_type": "execute_result",
          "data": {
            "text/html": [
              "<div>\n",
              "<style scoped>\n",
              "    .dataframe tbody tr th:only-of-type {\n",
              "        vertical-align: middle;\n",
              "    }\n",
              "\n",
              "    .dataframe tbody tr th {\n",
              "        vertical-align: top;\n",
              "    }\n",
              "\n",
              "    .dataframe thead th {\n",
              "        text-align: right;\n",
              "    }\n",
              "</style>\n",
              "<table border=\"1\" class=\"dataframe\">\n",
              "  <thead>\n",
              "    <tr style=\"text-align: right;\">\n",
              "      <th></th>\n",
              "      <th>jobId</th>\n",
              "      <th>companyId</th>\n",
              "      <th>jobType</th>\n",
              "      <th>degree</th>\n",
              "      <th>major</th>\n",
              "      <th>industry</th>\n",
              "      <th>yearsExperience</th>\n",
              "      <th>milesFromMetropolis</th>\n",
              "      <th>salary</th>\n",
              "    </tr>\n",
              "  </thead>\n",
              "  <tbody>\n",
              "    <tr>\n",
              "      <th>0</th>\n",
              "      <td>JOB1362684407687</td>\n",
              "      <td>COMP37</td>\n",
              "      <td>CFO</td>\n",
              "      <td>MASTERS</td>\n",
              "      <td>MATH</td>\n",
              "      <td>HEALTH</td>\n",
              "      <td>10</td>\n",
              "      <td>83</td>\n",
              "      <td>130</td>\n",
              "    </tr>\n",
              "    <tr>\n",
              "      <th>1</th>\n",
              "      <td>JOB1362684407688</td>\n",
              "      <td>COMP19</td>\n",
              "      <td>CEO</td>\n",
              "      <td>HIGH_SCHOOL</td>\n",
              "      <td>NONE</td>\n",
              "      <td>WEB</td>\n",
              "      <td>3</td>\n",
              "      <td>73</td>\n",
              "      <td>101</td>\n",
              "    </tr>\n",
              "    <tr>\n",
              "      <th>2</th>\n",
              "      <td>JOB1362684407689</td>\n",
              "      <td>COMP52</td>\n",
              "      <td>VICE_PRESIDENT</td>\n",
              "      <td>DOCTORAL</td>\n",
              "      <td>PHYSICS</td>\n",
              "      <td>HEALTH</td>\n",
              "      <td>10</td>\n",
              "      <td>38</td>\n",
              "      <td>137</td>\n",
              "    </tr>\n",
              "    <tr>\n",
              "      <th>3</th>\n",
              "      <td>JOB1362684407690</td>\n",
              "      <td>COMP38</td>\n",
              "      <td>MANAGER</td>\n",
              "      <td>DOCTORAL</td>\n",
              "      <td>CHEMISTRY</td>\n",
              "      <td>AUTO</td>\n",
              "      <td>8</td>\n",
              "      <td>17</td>\n",
              "      <td>142</td>\n",
              "    </tr>\n",
              "    <tr>\n",
              "      <th>4</th>\n",
              "      <td>JOB1362684407691</td>\n",
              "      <td>COMP7</td>\n",
              "      <td>VICE_PRESIDENT</td>\n",
              "      <td>BACHELORS</td>\n",
              "      <td>PHYSICS</td>\n",
              "      <td>FINANCE</td>\n",
              "      <td>8</td>\n",
              "      <td>16</td>\n",
              "      <td>163</td>\n",
              "    </tr>\n",
              "  </tbody>\n",
              "</table>\n",
              "</div>"
            ],
            "text/plain": [
              "              jobId companyId  ... milesFromMetropolis salary\n",
              "0  JOB1362684407687    COMP37  ...                  83    130\n",
              "1  JOB1362684407688    COMP19  ...                  73    101\n",
              "2  JOB1362684407689    COMP52  ...                  38    137\n",
              "3  JOB1362684407690    COMP38  ...                  17    142\n",
              "4  JOB1362684407691     COMP7  ...                  16    163\n",
              "\n",
              "[5 rows x 9 columns]"
            ]
          },
          "metadata": {
            "tags": []
          },
          "execution_count": 7
        }
      ]
    },
    {
      "cell_type": "code",
      "metadata": {
        "id": "ehhQ5r8Y0g4Z",
        "outputId": "0edb8855-3c41-48db-9cd8-b226ab0cb19c",
        "colab": {
          "base_uri": "https://localhost:8080/",
          "height": 224
        }
      },
      "source": [
        "dataset_df.tail()"
      ],
      "execution_count": 8,
      "outputs": [
        {
          "output_type": "execute_result",
          "data": {
            "text/html": [
              "<div>\n",
              "<style scoped>\n",
              "    .dataframe tbody tr th:only-of-type {\n",
              "        vertical-align: middle;\n",
              "    }\n",
              "\n",
              "    .dataframe tbody tr th {\n",
              "        vertical-align: top;\n",
              "    }\n",
              "\n",
              "    .dataframe thead th {\n",
              "        text-align: right;\n",
              "    }\n",
              "</style>\n",
              "<table border=\"1\" class=\"dataframe\">\n",
              "  <thead>\n",
              "    <tr style=\"text-align: right;\">\n",
              "      <th></th>\n",
              "      <th>jobId</th>\n",
              "      <th>companyId</th>\n",
              "      <th>jobType</th>\n",
              "      <th>degree</th>\n",
              "      <th>major</th>\n",
              "      <th>industry</th>\n",
              "      <th>yearsExperience</th>\n",
              "      <th>milesFromMetropolis</th>\n",
              "      <th>salary</th>\n",
              "    </tr>\n",
              "  </thead>\n",
              "  <tbody>\n",
              "    <tr>\n",
              "      <th>999995</th>\n",
              "      <td>JOB1362685407682</td>\n",
              "      <td>COMP56</td>\n",
              "      <td>VICE_PRESIDENT</td>\n",
              "      <td>BACHELORS</td>\n",
              "      <td>CHEMISTRY</td>\n",
              "      <td>HEALTH</td>\n",
              "      <td>19</td>\n",
              "      <td>94</td>\n",
              "      <td>88</td>\n",
              "    </tr>\n",
              "    <tr>\n",
              "      <th>999996</th>\n",
              "      <td>JOB1362685407683</td>\n",
              "      <td>COMP24</td>\n",
              "      <td>CTO</td>\n",
              "      <td>HIGH_SCHOOL</td>\n",
              "      <td>NONE</td>\n",
              "      <td>FINANCE</td>\n",
              "      <td>12</td>\n",
              "      <td>35</td>\n",
              "      <td>160</td>\n",
              "    </tr>\n",
              "    <tr>\n",
              "      <th>999997</th>\n",
              "      <td>JOB1362685407684</td>\n",
              "      <td>COMP23</td>\n",
              "      <td>JUNIOR</td>\n",
              "      <td>HIGH_SCHOOL</td>\n",
              "      <td>NONE</td>\n",
              "      <td>EDUCATION</td>\n",
              "      <td>16</td>\n",
              "      <td>81</td>\n",
              "      <td>64</td>\n",
              "    </tr>\n",
              "    <tr>\n",
              "      <th>999998</th>\n",
              "      <td>JOB1362685407685</td>\n",
              "      <td>COMP3</td>\n",
              "      <td>CFO</td>\n",
              "      <td>MASTERS</td>\n",
              "      <td>NONE</td>\n",
              "      <td>HEALTH</td>\n",
              "      <td>6</td>\n",
              "      <td>5</td>\n",
              "      <td>149</td>\n",
              "    </tr>\n",
              "    <tr>\n",
              "      <th>999999</th>\n",
              "      <td>JOB1362685407686</td>\n",
              "      <td>COMP59</td>\n",
              "      <td>JUNIOR</td>\n",
              "      <td>BACHELORS</td>\n",
              "      <td>NONE</td>\n",
              "      <td>EDUCATION</td>\n",
              "      <td>20</td>\n",
              "      <td>11</td>\n",
              "      <td>88</td>\n",
              "    </tr>\n",
              "  </tbody>\n",
              "</table>\n",
              "</div>"
            ],
            "text/plain": [
              "                   jobId companyId  ... milesFromMetropolis salary\n",
              "999995  JOB1362685407682    COMP56  ...                  94     88\n",
              "999996  JOB1362685407683    COMP24  ...                  35    160\n",
              "999997  JOB1362685407684    COMP23  ...                  81     64\n",
              "999998  JOB1362685407685     COMP3  ...                   5    149\n",
              "999999  JOB1362685407686    COMP59  ...                  11     88\n",
              "\n",
              "[5 rows x 9 columns]"
            ]
          },
          "metadata": {
            "tags": []
          },
          "execution_count": 8
        }
      ]
    },
    {
      "cell_type": "code",
      "metadata": {
        "id": "14SpahwpkhSz",
        "outputId": "ffa39616-7081-48ef-a453-375a7459d7aa",
        "colab": {
          "base_uri": "https://localhost:8080/",
          "height": 34
        }
      },
      "source": [
        "#discovering the shape of the dataset\n",
        "dataset_df.shape"
      ],
      "execution_count": 9,
      "outputs": [
        {
          "output_type": "execute_result",
          "data": {
            "text/plain": [
              "(1000000, 9)"
            ]
          },
          "metadata": {
            "tags": []
          },
          "execution_count": 9
        }
      ]
    },
    {
      "cell_type": "code",
      "metadata": {
        "id": "b6nrQYNFo3xf",
        "outputId": "a49ecb30-8729-4367-926c-528f55207bf5",
        "colab": {
          "base_uri": "https://localhost:8080/",
          "height": 289
        }
      },
      "source": [
        "#obtaining a concise summary of the dataset\n",
        "dataset_df.info()"
      ],
      "execution_count": 10,
      "outputs": [
        {
          "output_type": "stream",
          "text": [
            "<class 'pandas.core.frame.DataFrame'>\n",
            "Int64Index: 1000000 entries, 0 to 999999\n",
            "Data columns (total 9 columns):\n",
            " #   Column               Non-Null Count    Dtype \n",
            "---  ------               --------------    ----- \n",
            " 0   jobId                1000000 non-null  object\n",
            " 1   companyId            1000000 non-null  object\n",
            " 2   jobType              1000000 non-null  object\n",
            " 3   degree               1000000 non-null  object\n",
            " 4   major                1000000 non-null  object\n",
            " 5   industry             1000000 non-null  object\n",
            " 6   yearsExperience      1000000 non-null  int64 \n",
            " 7   milesFromMetropolis  1000000 non-null  int64 \n",
            " 8   salary               1000000 non-null  int64 \n",
            "dtypes: int64(3), object(6)\n",
            "memory usage: 76.3+ MB\n"
          ],
          "name": "stdout"
        }
      ]
    },
    {
      "cell_type": "code",
      "metadata": {
        "id": "r20bXyriqJ-L",
        "outputId": "cd282121-61f5-408e-c6fc-d1ad15a92538",
        "colab": {
          "base_uri": "https://localhost:8080/",
          "height": 187
        }
      },
      "source": [
        "#checking for missing values\n",
        "dataset_df.isnull().sum()"
      ],
      "execution_count": 11,
      "outputs": [
        {
          "output_type": "execute_result",
          "data": {
            "text/plain": [
              "jobId                  0\n",
              "companyId              0\n",
              "jobType                0\n",
              "degree                 0\n",
              "major                  0\n",
              "industry               0\n",
              "yearsExperience        0\n",
              "milesFromMetropolis    0\n",
              "salary                 0\n",
              "dtype: int64"
            ]
          },
          "metadata": {
            "tags": []
          },
          "execution_count": 11
        }
      ]
    },
    {
      "cell_type": "code",
      "metadata": {
        "id": "nR0pMVIFqlvZ",
        "outputId": "6bd9b1fb-b9e3-44d6-c200-ed1a7ee37feb",
        "colab": {
          "base_uri": "https://localhost:8080/",
          "height": 187
        }
      },
      "source": [
        "#check if the missing values are encoded as 0\n",
        "dataset_df.eq(0).sum()"
      ],
      "execution_count": 12,
      "outputs": [
        {
          "output_type": "execute_result",
          "data": {
            "text/plain": [
              "jobId                      0\n",
              "companyId                  0\n",
              "jobType                    0\n",
              "degree                     0\n",
              "major                      0\n",
              "industry                   0\n",
              "yearsExperience        39839\n",
              "milesFromMetropolis    10123\n",
              "salary                     5\n",
              "dtype: int64"
            ]
          },
          "metadata": {
            "tags": []
          },
          "execution_count": 12
        }
      ]
    },
    {
      "cell_type": "markdown",
      "metadata": {
        "id": "SOpfVl54s8Fc"
      },
      "source": [
        "Years of experience can be encoded as 0 if the the timeline is less than a year.\n",
        "MilesFromMetropolis(which is distance to Metropolis) can be encoded as 0 if the distance is small.\n",
        "Salary can be encoded as 0 if the staff is volunteering or there are missing values encoded as 0.\n"
      ]
    },
    {
      "cell_type": "code",
      "metadata": {
        "id": "7aUwM0LZrZoC",
        "outputId": "905f6d9f-63a5-4129-82c8-5324a5a62504",
        "colab": {
          "base_uri": "https://localhost:8080/",
          "height": 34
        }
      },
      "source": [
        "#does job type contain volunteering as a job type\n",
        "print(\"job type values:\",dataset_df.jobType.unique())"
      ],
      "execution_count": 13,
      "outputs": [
        {
          "output_type": "stream",
          "text": [
            "job type values: ['CFO' 'CEO' 'VICE_PRESIDENT' 'MANAGER' 'JUNIOR' 'JANITOR' 'CTO' 'SENIOR']\n"
          ],
          "name": "stdout"
        }
      ]
    },
    {
      "cell_type": "code",
      "metadata": {
        "id": "od2CvU9zynwi"
      },
      "source": [
        "#volunteering does not exist in the job description.Therefore ,we drop observations with salary as 0.\n",
        "dataset_df.drop(dataset_df[dataset_df.salary==0].index,inplace=True)"
      ],
      "execution_count": 14,
      "outputs": []
    },
    {
      "cell_type": "code",
      "metadata": {
        "id": "RF8gJVAqz_64",
        "outputId": "58413f9e-5d86-4652-8926-ce42aa00f0ea",
        "colab": {
          "base_uri": "https://localhost:8080/",
          "height": 297
        }
      },
      "source": [
        "#statistical description of the numeric objects in the dataframe\n",
        "#The describe() function is used to generate descriptive statistics that summarize the central tendency, dispersion and shape of a dataset’s distribution, excluding NaN values\n",
        "dataset_df.describe()"
      ],
      "execution_count": 15,
      "outputs": [
        {
          "output_type": "execute_result",
          "data": {
            "text/html": [
              "<div>\n",
              "<style scoped>\n",
              "    .dataframe tbody tr th:only-of-type {\n",
              "        vertical-align: middle;\n",
              "    }\n",
              "\n",
              "    .dataframe tbody tr th {\n",
              "        vertical-align: top;\n",
              "    }\n",
              "\n",
              "    .dataframe thead th {\n",
              "        text-align: right;\n",
              "    }\n",
              "</style>\n",
              "<table border=\"1\" class=\"dataframe\">\n",
              "  <thead>\n",
              "    <tr style=\"text-align: right;\">\n",
              "      <th></th>\n",
              "      <th>yearsExperience</th>\n",
              "      <th>milesFromMetropolis</th>\n",
              "      <th>salary</th>\n",
              "    </tr>\n",
              "  </thead>\n",
              "  <tbody>\n",
              "    <tr>\n",
              "      <th>count</th>\n",
              "      <td>999995.000000</td>\n",
              "      <td>999995.000000</td>\n",
              "      <td>999995.000000</td>\n",
              "    </tr>\n",
              "    <tr>\n",
              "      <th>mean</th>\n",
              "      <td>11.992407</td>\n",
              "      <td>49.529381</td>\n",
              "      <td>116.062398</td>\n",
              "    </tr>\n",
              "    <tr>\n",
              "      <th>std</th>\n",
              "      <td>7.212390</td>\n",
              "      <td>28.877721</td>\n",
              "      <td>38.717163</td>\n",
              "    </tr>\n",
              "    <tr>\n",
              "      <th>min</th>\n",
              "      <td>0.000000</td>\n",
              "      <td>0.000000</td>\n",
              "      <td>17.000000</td>\n",
              "    </tr>\n",
              "    <tr>\n",
              "      <th>25%</th>\n",
              "      <td>6.000000</td>\n",
              "      <td>25.000000</td>\n",
              "      <td>88.000000</td>\n",
              "    </tr>\n",
              "    <tr>\n",
              "      <th>50%</th>\n",
              "      <td>12.000000</td>\n",
              "      <td>50.000000</td>\n",
              "      <td>114.000000</td>\n",
              "    </tr>\n",
              "    <tr>\n",
              "      <th>75%</th>\n",
              "      <td>18.000000</td>\n",
              "      <td>75.000000</td>\n",
              "      <td>141.000000</td>\n",
              "    </tr>\n",
              "    <tr>\n",
              "      <th>max</th>\n",
              "      <td>24.000000</td>\n",
              "      <td>99.000000</td>\n",
              "      <td>301.000000</td>\n",
              "    </tr>\n",
              "  </tbody>\n",
              "</table>\n",
              "</div>"
            ],
            "text/plain": [
              "       yearsExperience  milesFromMetropolis         salary\n",
              "count    999995.000000        999995.000000  999995.000000\n",
              "mean         11.992407            49.529381     116.062398\n",
              "std           7.212390            28.877721      38.717163\n",
              "min           0.000000             0.000000      17.000000\n",
              "25%           6.000000            25.000000      88.000000\n",
              "50%          12.000000            50.000000     114.000000\n",
              "75%          18.000000            75.000000     141.000000\n",
              "max          24.000000            99.000000     301.000000"
            ]
          },
          "metadata": {
            "tags": []
          },
          "execution_count": 15
        }
      ]
    },
    {
      "cell_type": "code",
      "metadata": {
        "id": "XnhCjXVr16xM",
        "outputId": "dc391bc5-3138-4f7d-94f1-a4a0e0b29e2a",
        "colab": {
          "base_uri": "https://localhost:8080/",
          "height": 493
        }
      },
      "source": [
        "#checking for duplicate jobId rows as jobID should be unique for everyone in the organisation.\n",
        "dataset_df_no_duplicates=dataset_df.drop('jobId',axis=1).drop_duplicates()\n",
        "print(dataset_df)\n",
        "print(dataset_df_no_duplicates)"
      ],
      "execution_count": 16,
      "outputs": [
        {
          "output_type": "stream",
          "text": [
            "                   jobId companyId  ... milesFromMetropolis salary\n",
            "0       JOB1362684407687    COMP37  ...                  83    130\n",
            "1       JOB1362684407688    COMP19  ...                  73    101\n",
            "2       JOB1362684407689    COMP52  ...                  38    137\n",
            "3       JOB1362684407690    COMP38  ...                  17    142\n",
            "4       JOB1362684407691     COMP7  ...                  16    163\n",
            "...                  ...       ...  ...                 ...    ...\n",
            "999995  JOB1362685407682    COMP56  ...                  94     88\n",
            "999996  JOB1362685407683    COMP24  ...                  35    160\n",
            "999997  JOB1362685407684    COMP23  ...                  81     64\n",
            "999998  JOB1362685407685     COMP3  ...                   5    149\n",
            "999999  JOB1362685407686    COMP59  ...                  11     88\n",
            "\n",
            "[999995 rows x 9 columns]\n",
            "       companyId         jobType  ... milesFromMetropolis salary\n",
            "0         COMP37             CFO  ...                  83    130\n",
            "1         COMP19             CEO  ...                  73    101\n",
            "2         COMP52  VICE_PRESIDENT  ...                  38    137\n",
            "3         COMP38         MANAGER  ...                  17    142\n",
            "4          COMP7  VICE_PRESIDENT  ...                  16    163\n",
            "...          ...             ...  ...                 ...    ...\n",
            "999995    COMP56  VICE_PRESIDENT  ...                  94     88\n",
            "999996    COMP24             CTO  ...                  35    160\n",
            "999997    COMP23          JUNIOR  ...                  81     64\n",
            "999998     COMP3             CFO  ...                   5    149\n",
            "999999    COMP59          JUNIOR  ...                  11     88\n",
            "\n",
            "[999809 rows x 8 columns]\n"
          ],
          "name": "stdout"
        }
      ]
    },
    {
      "cell_type": "code",
      "metadata": {
        "id": "zo5hytOI2qyG",
        "outputId": "8ddbc9dc-7918-4b40-f0d3-e86cf6ac2e71",
        "colab": {
          "base_uri": "https://localhost:8080/",
          "height": 34
        }
      },
      "source": [
        "dataset_df =dataset_df_no_duplicates\n",
        "dataset_df.shape"
      ],
      "execution_count": 17,
      "outputs": [
        {
          "output_type": "execute_result",
          "data": {
            "text/plain": [
              "(999809, 8)"
            ]
          },
          "metadata": {
            "tags": []
          },
          "execution_count": 17
        }
      ]
    },
    {
      "cell_type": "code",
      "metadata": {
        "id": "MFiUOuFk5a_B",
        "outputId": "06a257e7-5ddf-4e34-c1ae-282422905f83",
        "colab": {
          "base_uri": "https://localhost:8080/",
          "height": 285
        }
      },
      "source": [
        "#obtaining a boxplot for the salary distribution\n",
        "import seaborn as sns\n",
        "sns.boxplot(y=dataset_df[\"salary\"]).set_title(\"Salary Outliers\")"
      ],
      "execution_count": 18,
      "outputs": [
        {
          "output_type": "execute_result",
          "data": {
            "text/plain": [
              "Text(0.5, 1.0, 'Salary Outliers')"
            ]
          },
          "metadata": {
            "tags": []
          },
          "execution_count": 18
        },
        {
          "output_type": "display_data",
          "data": {
            "image/png": "[encoded data removed]",
            "text/plain": [
              "<Figure size 432x288 with 1 Axes>"
            ]
          },
          "metadata": {
            "tags": [],
            "needs_background": "light"
          }
        }
      ]
    },
    {
      "cell_type": "markdown",
      "metadata": {
        "id": "f8ptOEeZ6igF"
      },
      "source": [
        "A boxplot can tell you about your outliers and what their values are. It can also tell you if your data is symmetrical, how tightly your data is grouped, and if and how your data is skewed."
      ]
    },
    {
      "cell_type": "code",
      "metadata": {
        "id": "JPwjmu-46i9L",
        "outputId": "46ff8e5b-66bb-4fc5-963c-76a14801dc87",
        "colab": {
          "base_uri": "https://localhost:8080/",
          "height": 34
        }
      },
      "source": [
        "#checking the symmetry of the data distribution\n",
        "dataset_df[\"salary\"].skew()"
      ],
      "execution_count": 19,
      "outputs": [
        {
          "output_type": "execute_result",
          "data": {
            "text/plain": [
              "0.3466137670165424"
            ]
          },
          "metadata": {
            "tags": []
          },
          "execution_count": 19
        }
      ]
    },
    {
      "cell_type": "code",
      "metadata": {
        "id": "atEVr2Gd6ujA",
        "outputId": "bac8fc73-7132-4cfe-eb63-74fc844c7b74",
        "colab": {
          "base_uri": "https://localhost:8080/",
          "height": 34
        }
      },
      "source": [
        "#Kurtosis is the degree of peakedness of a distribution\n",
        "dataset_df[\"salary\"].kurtosis()\n"
      ],
      "execution_count": 20,
      "outputs": [
        {
          "output_type": "execute_result",
          "data": {
            "text/plain": [
              "-0.02566650565198003"
            ]
          },
          "metadata": {
            "tags": []
          },
          "execution_count": 20
        }
      ]
    },
    {
      "cell_type": "markdown",
      "metadata": {
        "id": "6wnRbBuy95UV"
      },
      "source": [
        "The distribution is relatively symmetrical and the outliers are relatively small.Therefore,there might be no need for the removal of the outliers."
      ]
    },
    {
      "cell_type": "markdown",
      "metadata": {
        "id": "Nm0ojTIJ-zRa"
      },
      "source": [
        "**Exploratory Data Analysis**"
      ]
    },
    {
      "cell_type": "code",
      "metadata": {
        "id": "fDrqsyjh-XBx",
        "outputId": "aa2ea056-16f5-405b-8c56-fb42909d34da",
        "colab": {
          "base_uri": "https://localhost:8080/",
          "height": 296
        }
      },
      "source": [
        "#exploring the salary across various groups\n",
        "#jobtype vs salary\n",
        "plt.figure(figsize =(11,4))\n",
        "sns.barplot(x=dataset_df[\"jobType\"],y=dataset_df[\"salary\"],palette=(\"GnBu_d\"))\n",
        "sns.set(style=\"whitegrid\")\n",
        "plt.xlabel(\"JobType\")\n",
        "plt.ylabel(\"Salary\")\n",
        "plt.title(\"Average salary by Job type\")\n",
        "plt.show()"
      ],
      "execution_count": 21,
      "outputs": [
        {
          "output_type": "display_data",
          "data": {
            "image/png": "[encoded data removed]",
            "text/plain": [
              "<Figure size 792x288 with 1 Axes>"
            ]
          },
          "metadata": {
            "tags": [],
            "needs_background": "light"
          }
        }
      ]
    },
    {
      "cell_type": "code",
      "metadata": {
        "id": "vH3ppS0dEWb5",
        "outputId": "585f96cb-f50e-44de-c43b-05eb18ee3393",
        "colab": {
          "base_uri": "https://localhost:8080/",
          "height": 302
        }
      },
      "source": [
        "#degree vs salary\n",
        "plt.figure(figsize =(11,4))\n",
        "sns.barplot(x=dataset_df[\"degree\"],y=dataset_df[\"salary\"],palette=(\"GnBu_d\"))\n",
        "sns.set(style=\"whitegrid\")\n",
        "plt.xlabel(\"Degree\")\n",
        "plt.ylabel(\"Salary\")\n",
        "plt.title(\"Average salary by Degree\")\n",
        "plt.show()\n"
      ],
      "execution_count": 22,
      "outputs": [
        {
          "output_type": "display_data",
          "data": {
            "image/png": "[encoded data removed]",
            "text/plain": [
              "<Figure size 792x288 with 1 Axes>"
            ]
          },
          "metadata": {
            "tags": []
          }
        }
      ]
    },
    {
      "cell_type": "code",
      "metadata": {
        "id": "9dXya46NCysO",
        "outputId": "270e0ed3-9d7b-4f95-bcb6-1f3a91d3bb21",
        "colab": {
          "base_uri": "https://localhost:8080/",
          "height": 301
        }
      },
      "source": [
        "#industry vs salary\n",
        "plt.figure(figsize =(11,4))\n",
        "sns.barplot(x=dataset_df[\"industry\"],y=dataset_df[\"salary\"],palette=(\"GnBu_d\"))\n",
        "sns.set(style=\"whitegrid\")\n",
        "plt.xlabel(\"Industry\")\n",
        "plt.ylabel(\"Salary\")\n",
        "plt.title(\"Average salary by Industry\")\n",
        "plt.show()\n"
      ],
      "execution_count": 23,
      "outputs": [
        {
          "output_type": "display_data",
          "data": {
            "image/png": "[encoded data removed]",
            "text/plain": [
              "<Figure size 792x288 with 1 Axes>"
            ]
          },
          "metadata": {
            "tags": []
          }
        }
      ]
    },
    {
      "cell_type": "code",
      "metadata": {
        "id": "JvN_C6i9GjcN",
        "outputId": "bd4b927c-c111-451b-e526-d32135a449aa",
        "colab": {
          "base_uri": "https://localhost:8080/",
          "height": 301
        }
      },
      "source": [
        "#major vs salary\n",
        "plt.figure(figsize =(11,4))\n",
        "sns.barplot(x=dataset_df[\"major\"],y=dataset_df[\"salary\"],palette=(\"GnBu_d\"))\n",
        "sns.set(style=\"whitegrid\")\n",
        "plt.xlabel(\"Major\")\n",
        "plt.ylabel(\"Salary\")\n",
        "plt.title(\"Average salary by Industry\")\n",
        "plt.show()"
      ],
      "execution_count": 24,
      "outputs": [
        {
          "output_type": "display_data",
          "data": {
            "image/png": "[encoded data removed]",
            "text/plain": [
              "<Figure size 792x288 with 1 Axes>"
            ]
          },
          "metadata": {
            "tags": []
          }
        }
      ]
    },
    {
      "cell_type": "code",
      "metadata": {
        "id": "eVA5mtG0PbeK",
        "outputId": "6b896f49-7ec5-4b56-ebc4-7634cbdbe743",
        "colab": {
          "base_uri": "https://localhost:8080/",
          "height": 286
        }
      },
      "source": [
        "sns.set(style =\"darkgrid\")\n",
        "\n",
        "sns.countplot(x='jobType',data=dataset_df)\n",
        "plt.xlabel(\"jobType\")\n",
        "\n",
        "plt.show()"
      ],
      "execution_count": 25,
      "outputs": [
        {
          "output_type": "display_data",
          "data": {
            "image/png": "[encoded data removed]",
            "text/plain": [
              "<Figure size 432x288 with 1 Axes>"
            ]
          },
          "metadata": {
            "tags": []
          }
        }
      ]
    },
    {
      "cell_type": "code",
      "metadata": {
        "id": "tpc_0nd9VamL",
        "outputId": "05f60408-b436-41e0-950d-4520aa250055",
        "colab": {
          "base_uri": "https://localhost:8080/",
          "height": 285
        }
      },
      "source": [
        "sns.set(style =\"darkgrid\")\n",
        "\n",
        "sns.countplot(x='industry',data=dataset_df)\n",
        "plt.xlabel(\"industry\")\n",
        "\n",
        "plt.show()"
      ],
      "execution_count": 26,
      "outputs": [
        {
          "output_type": "display_data",
          "data": {
            "image/png": "[encoded data removed]",
            "text/plain": [
              "<Figure size 432x288 with 1 Axes>"
            ]
          },
          "metadata": {
            "tags": []
          }
        }
      ]
    },
    {
      "cell_type": "code",
      "metadata": {
        "id": "bjTv3cB8V8vQ",
        "outputId": "9d965e4d-521d-4037-c729-cacfb3d134c1",
        "colab": {
          "base_uri": "https://localhost:8080/",
          "height": 285
        }
      },
      "source": [
        "sns.set(style =\"darkgrid\")\n",
        "\n",
        "sns.countplot(x='companyId',data=dataset_df)\n",
        "plt.xlabel(\"companyId\")\n",
        "\n",
        "plt.show()"
      ],
      "execution_count": 27,
      "outputs": [
        {
          "output_type": "display_data",
          "data": {
            "image/png": "[encoded data removed]",
            "text/plain": [
              "<Figure size 432x288 with 1 Axes>"
            ]
          },
          "metadata": {
            "tags": []
          }
        }
      ]
    },
    {
      "cell_type": "code",
      "metadata": {
        "id": "4uz3eZv_VqXT",
        "outputId": "151a1fd7-52e2-4cb9-c6ba-38da7d832b88",
        "colab": {
          "base_uri": "https://localhost:8080/",
          "height": 285
        }
      },
      "source": [
        "sns.set(style =\"darkgrid\")\n",
        "\n",
        "sns.countplot(x='major',data=dataset_df)\n",
        "plt.xlabel(\"major\")\n",
        "\n",
        "plt.show()"
      ],
      "execution_count": 28,
      "outputs": [
        {
          "output_type": "display_data",
          "data": {
            "image/png": "[encoded data removed]",
            "text/plain": [
              "<Figure size 432x288 with 1 Axes>"
            ]
          },
          "metadata": {
            "tags": []
          }
        }
      ]
    },
    {
      "cell_type": "code",
      "metadata": {
        "id": "5Pj8yQQHIdU1",
        "outputId": "abe5d6c8-aad7-482b-b717-a56d77226a09",
        "colab": {
          "base_uri": "https://localhost:8080/",
          "height": 301
        }
      },
      "source": [
        "#drawing lineplots to show the linearity of the distribution\n",
        "sns.lineplot(x=dataset_df['milesFromMetropolis'],y=dataset_df['salary'],data=dataset_df)\n",
        "plt.title(\"milesFromMetropolis vs Salary\")\n",
        "plt.show()"
      ],
      "execution_count": 29,
      "outputs": [
        {
          "output_type": "display_data",
          "data": {
            "image/png": "[encoded data removed]",
            "text/plain": [
              "<Figure size 432x288 with 1 Axes>"
            ]
          },
          "metadata": {
            "tags": []
          }
        }
      ]
    },
    {
      "cell_type": "code",
      "metadata": {
        "id": "-3W-y2_VN3wE",
        "outputId": "c3af12db-746b-4bfa-8246-b55c92230441",
        "colab": {
          "base_uri": "https://localhost:8080/",
          "height": 301
        }
      },
      "source": [
        "sns.lineplot(x=dataset_df['yearsExperience'],y=dataset_df['yearsExperience'],data=dataset_df)\n",
        "plt.title(\"yearsExperience vs Salary\")\n",
        "plt.show()"
      ],
      "execution_count": 30,
      "outputs": [
        {
          "output_type": "display_data",
          "data": {
            "image/png": "[encoded data removed]",
            "text/plain": [
              "<Figure size 432x288 with 1 Axes>"
            ]
          },
          "metadata": {
            "tags": []
          }
        }
      ]
    },
    {
      "cell_type": "code",
      "metadata": {
        "id": "2vrLT_mGHe93",
        "outputId": "fa04d9c7-67a3-447f-d1cc-078911e3771a",
        "colab": {
          "base_uri": "https://localhost:8080/",
          "height": 235
        }
      },
      "source": [
        "#exploring the distribution of the numerical variables\n",
        "num =dataset_df.select_dtypes(include=[np.int64])\n",
        "num.hist(bins=50,figsize=(15,6),layout=(2,3))\n",
        "plt.suptitle(\"Numerical variables :Distribution\")\n",
        "plt.show()"
      ],
      "execution_count": 31,
      "outputs": [
        {
          "output_type": "display_data",
          "data": {
            "image/png": "[encoded data removed]",
            "text/plain": [
              "<Figure size 1080x432 with 6 Axes>"
            ]
          },
          "metadata": {
            "tags": []
          }
        }
      ]
    },
    {
      "cell_type": "code",
      "metadata": {
        "id": "3_Yx6DkbJTa6",
        "outputId": "a1384e9a-04f5-4c2b-ba99-4974b68465a8",
        "colab": {
          "base_uri": "https://localhost:8080/",
          "height": 667
        }
      },
      "source": [
        "#The correlation matrix basically shows the correlation betwen the variables.Each cell shows the correlation between two variables.\n",
        "import matplotlib.pyplot as plt\n",
        "\n",
        "def plot_corr(df,size=10):\n",
        "    '''Function plots a graphical correlation matrix for each pair of columns in the dataframe.\n",
        "\n",
        "    Input:\n",
        "        df: pandas DataFrame\n",
        "        size: vertical and horizontal size of the plot'''\n",
        "\n",
        "    corr = df.corr()\n",
        "    fig, ax = plt.subplots(figsize=(size, size))\n",
        "    ax.legend()\n",
        "    cax = ax.matshow(corr)\n",
        "    fig.colorbar(cax)\n",
        "    plt.xticks(range(len(corr.columns)), corr.columns, rotation='vertical')\n",
        "    plt.yticks(range(len(corr.columns)), corr.columns)\n",
        "    plt.title(\"Correlation Heatmap\",y=-0.1)\n",
        "plot_corr(dataset_df)"
      ],
      "execution_count": 32,
      "outputs": [
        {
          "output_type": "stream",
          "text": [
            "No handles with labels found to put in legend.\n"
          ],
          "name": "stderr"
        },
        {
          "output_type": "display_data",
          "data": {
            "image/png": "[encoded data removed]",
            "text/plain": [
              "<Figure size 720x720 with 2 Axes>"
            ]
          },
          "metadata": {
            "tags": []
          }
        }
      ]
    },
    {
      "cell_type": "markdown",
      "metadata": {
        "id": "qCdhMSVVLSbT"
      },
      "source": [
        "**Data Preparation/Preprocessing**"
      ]
    },
    {
      "cell_type": "code",
      "metadata": {
        "id": "LW0uvU5pLgoH",
        "outputId": "a200a58a-cc80-4718-ffa8-8200f3ec541c",
        "colab": {
          "base_uri": "https://localhost:8080/",
          "height": 253
        }
      },
      "source": [
        "#perform One-Hot-Encoding on Categorical Data\n",
        "import pandas as pd\n",
        "\n",
        "categorial = ['companyId','jobType','degree','major','industry']\n",
        "dataset_df= pd.get_dummies(dataset_df, columns=categorial, drop_first=True)\n",
        "\n",
        "dataset_df.head()\n"
      ],
      "execution_count": 33,
      "outputs": [
        {
          "output_type": "execute_result",
          "data": {
            "text/html": [
              "<div>\n",
              "<style scoped>\n",
              "    .dataframe tbody tr th:only-of-type {\n",
              "        vertical-align: middle;\n",
              "    }\n",
              "\n",
              "    .dataframe tbody tr th {\n",
              "        vertical-align: top;\n",
              "    }\n",
              "\n",
              "    .dataframe thead th {\n",
              "        text-align: right;\n",
              "    }\n",
              "</style>\n",
              "<table border=\"1\" class=\"dataframe\">\n",
              "  <thead>\n",
              "    <tr style=\"text-align: right;\">\n",
              "      <th></th>\n",
              "      <th>yearsExperience</th>\n",
              "      <th>milesFromMetropolis</th>\n",
              "      <th>salary</th>\n",
              "      <th>companyId_COMP1</th>\n",
              "      <th>companyId_COMP10</th>\n",
              "      <th>companyId_COMP11</th>\n",
              "      <th>companyId_COMP12</th>\n",
              "      <th>companyId_COMP13</th>\n",
              "      <th>companyId_COMP14</th>\n",
              "      <th>companyId_COMP15</th>\n",
              "      <th>companyId_COMP16</th>\n",
              "      <th>companyId_COMP17</th>\n",
              "      <th>companyId_COMP18</th>\n",
              "      <th>companyId_COMP19</th>\n",
              "      <th>companyId_COMP2</th>\n",
              "      <th>companyId_COMP20</th>\n",
              "      <th>companyId_COMP21</th>\n",
              "      <th>companyId_COMP22</th>\n",
              "      <th>companyId_COMP23</th>\n",
              "      <th>companyId_COMP24</th>\n",
              "      <th>companyId_COMP25</th>\n",
              "      <th>companyId_COMP26</th>\n",
              "      <th>companyId_COMP27</th>\n",
              "      <th>companyId_COMP28</th>\n",
              "      <th>companyId_COMP29</th>\n",
              "      <th>companyId_COMP3</th>\n",
              "      <th>companyId_COMP30</th>\n",
              "      <th>companyId_COMP31</th>\n",
              "      <th>companyId_COMP32</th>\n",
              "      <th>companyId_COMP33</th>\n",
              "      <th>companyId_COMP34</th>\n",
              "      <th>companyId_COMP35</th>\n",
              "      <th>companyId_COMP36</th>\n",
              "      <th>companyId_COMP37</th>\n",
              "      <th>companyId_COMP38</th>\n",
              "      <th>companyId_COMP39</th>\n",
              "      <th>companyId_COMP4</th>\n",
              "      <th>companyId_COMP40</th>\n",
              "      <th>companyId_COMP41</th>\n",
              "      <th>companyId_COMP42</th>\n",
              "      <th>...</th>\n",
              "      <th>companyId_COMP52</th>\n",
              "      <th>companyId_COMP53</th>\n",
              "      <th>companyId_COMP54</th>\n",
              "      <th>companyId_COMP55</th>\n",
              "      <th>companyId_COMP56</th>\n",
              "      <th>companyId_COMP57</th>\n",
              "      <th>companyId_COMP58</th>\n",
              "      <th>companyId_COMP59</th>\n",
              "      <th>companyId_COMP6</th>\n",
              "      <th>companyId_COMP60</th>\n",
              "      <th>companyId_COMP61</th>\n",
              "      <th>companyId_COMP62</th>\n",
              "      <th>companyId_COMP7</th>\n",
              "      <th>companyId_COMP8</th>\n",
              "      <th>companyId_COMP9</th>\n",
              "      <th>jobType_CFO</th>\n",
              "      <th>jobType_CTO</th>\n",
              "      <th>jobType_JANITOR</th>\n",
              "      <th>jobType_JUNIOR</th>\n",
              "      <th>jobType_MANAGER</th>\n",
              "      <th>jobType_SENIOR</th>\n",
              "      <th>jobType_VICE_PRESIDENT</th>\n",
              "      <th>degree_DOCTORAL</th>\n",
              "      <th>degree_HIGH_SCHOOL</th>\n",
              "      <th>degree_MASTERS</th>\n",
              "      <th>degree_NONE</th>\n",
              "      <th>major_BUSINESS</th>\n",
              "      <th>major_CHEMISTRY</th>\n",
              "      <th>major_COMPSCI</th>\n",
              "      <th>major_ENGINEERING</th>\n",
              "      <th>major_LITERATURE</th>\n",
              "      <th>major_MATH</th>\n",
              "      <th>major_NONE</th>\n",
              "      <th>major_PHYSICS</th>\n",
              "      <th>industry_EDUCATION</th>\n",
              "      <th>industry_FINANCE</th>\n",
              "      <th>industry_HEALTH</th>\n",
              "      <th>industry_OIL</th>\n",
              "      <th>industry_SERVICE</th>\n",
              "      <th>industry_WEB</th>\n",
              "    </tr>\n",
              "  </thead>\n",
              "  <tbody>\n",
              "    <tr>\n",
              "      <th>0</th>\n",
              "      <td>10</td>\n",
              "      <td>83</td>\n",
              "      <td>130</td>\n",
              "      <td>0</td>\n",
              "      <td>0</td>\n",
              "      <td>0</td>\n",
              "      <td>0</td>\n",
              "      <td>0</td>\n",
              "      <td>0</td>\n",
              "      <td>0</td>\n",
              "      <td>0</td>\n",
              "      <td>0</td>\n",
              "      <td>0</td>\n",
              "      <td>0</td>\n",
              "      <td>0</td>\n",
              "      <td>0</td>\n",
              "      <td>0</td>\n",
              "      <td>0</td>\n",
              "      <td>0</td>\n",
              "      <td>0</td>\n",
              "      <td>0</td>\n",
              "      <td>0</td>\n",
              "      <td>0</td>\n",
              "      <td>0</td>\n",
              "      <td>0</td>\n",
              "      <td>0</td>\n",
              "      <td>0</td>\n",
              "      <td>0</td>\n",
              "      <td>0</td>\n",
              "      <td>0</td>\n",
              "      <td>0</td>\n",
              "      <td>0</td>\n",
              "      <td>0</td>\n",
              "      <td>1</td>\n",
              "      <td>0</td>\n",
              "      <td>0</td>\n",
              "      <td>0</td>\n",
              "      <td>0</td>\n",
              "      <td>0</td>\n",
              "      <td>0</td>\n",
              "      <td>...</td>\n",
              "      <td>0</td>\n",
              "      <td>0</td>\n",
              "      <td>0</td>\n",
              "      <td>0</td>\n",
              "      <td>0</td>\n",
              "      <td>0</td>\n",
              "      <td>0</td>\n",
              "      <td>0</td>\n",
              "      <td>0</td>\n",
              "      <td>0</td>\n",
              "      <td>0</td>\n",
              "      <td>0</td>\n",
              "      <td>0</td>\n",
              "      <td>0</td>\n",
              "      <td>0</td>\n",
              "      <td>1</td>\n",
              "      <td>0</td>\n",
              "      <td>0</td>\n",
              "      <td>0</td>\n",
              "      <td>0</td>\n",
              "      <td>0</td>\n",
              "      <td>0</td>\n",
              "      <td>0</td>\n",
              "      <td>0</td>\n",
              "      <td>1</td>\n",
              "      <td>0</td>\n",
              "      <td>0</td>\n",
              "      <td>0</td>\n",
              "      <td>0</td>\n",
              "      <td>0</td>\n",
              "      <td>0</td>\n",
              "      <td>1</td>\n",
              "      <td>0</td>\n",
              "      <td>0</td>\n",
              "      <td>0</td>\n",
              "      <td>0</td>\n",
              "      <td>1</td>\n",
              "      <td>0</td>\n",
              "      <td>0</td>\n",
              "      <td>0</td>\n",
              "    </tr>\n",
              "    <tr>\n",
              "      <th>1</th>\n",
              "      <td>3</td>\n",
              "      <td>73</td>\n",
              "      <td>101</td>\n",
              "      <td>0</td>\n",
              "      <td>0</td>\n",
              "      <td>0</td>\n",
              "      <td>0</td>\n",
              "      <td>0</td>\n",
              "      <td>0</td>\n",
              "      <td>0</td>\n",
              "      <td>0</td>\n",
              "      <td>0</td>\n",
              "      <td>0</td>\n",
              "      <td>1</td>\n",
              "      <td>0</td>\n",
              "      <td>0</td>\n",
              "      <td>0</td>\n",
              "      <td>0</td>\n",
              "      <td>0</td>\n",
              "      <td>0</td>\n",
              "      <td>0</td>\n",
              "      <td>0</td>\n",
              "      <td>0</td>\n",
              "      <td>0</td>\n",
              "      <td>0</td>\n",
              "      <td>0</td>\n",
              "      <td>0</td>\n",
              "      <td>0</td>\n",
              "      <td>0</td>\n",
              "      <td>0</td>\n",
              "      <td>0</td>\n",
              "      <td>0</td>\n",
              "      <td>0</td>\n",
              "      <td>0</td>\n",
              "      <td>0</td>\n",
              "      <td>0</td>\n",
              "      <td>0</td>\n",
              "      <td>0</td>\n",
              "      <td>0</td>\n",
              "      <td>0</td>\n",
              "      <td>...</td>\n",
              "      <td>0</td>\n",
              "      <td>0</td>\n",
              "      <td>0</td>\n",
              "      <td>0</td>\n",
              "      <td>0</td>\n",
              "      <td>0</td>\n",
              "      <td>0</td>\n",
              "      <td>0</td>\n",
              "      <td>0</td>\n",
              "      <td>0</td>\n",
              "      <td>0</td>\n",
              "      <td>0</td>\n",
              "      <td>0</td>\n",
              "      <td>0</td>\n",
              "      <td>0</td>\n",
              "      <td>0</td>\n",
              "      <td>0</td>\n",
              "      <td>0</td>\n",
              "      <td>0</td>\n",
              "      <td>0</td>\n",
              "      <td>0</td>\n",
              "      <td>0</td>\n",
              "      <td>0</td>\n",
              "      <td>1</td>\n",
              "      <td>0</td>\n",
              "      <td>0</td>\n",
              "      <td>0</td>\n",
              "      <td>0</td>\n",
              "      <td>0</td>\n",
              "      <td>0</td>\n",
              "      <td>0</td>\n",
              "      <td>0</td>\n",
              "      <td>1</td>\n",
              "      <td>0</td>\n",
              "      <td>0</td>\n",
              "      <td>0</td>\n",
              "      <td>0</td>\n",
              "      <td>0</td>\n",
              "      <td>0</td>\n",
              "      <td>1</td>\n",
              "    </tr>\n",
              "    <tr>\n",
              "      <th>2</th>\n",
              "      <td>10</td>\n",
              "      <td>38</td>\n",
              "      <td>137</td>\n",
              "      <td>0</td>\n",
              "      <td>0</td>\n",
              "      <td>0</td>\n",
              "      <td>0</td>\n",
              "      <td>0</td>\n",
              "      <td>0</td>\n",
              "      <td>0</td>\n",
              "      <td>0</td>\n",
              "      <td>0</td>\n",
              "      <td>0</td>\n",
              "      <td>0</td>\n",
              "      <td>0</td>\n",
              "      <td>0</td>\n",
              "      <td>0</td>\n",
              "      <td>0</td>\n",
              "      <td>0</td>\n",
              "      <td>0</td>\n",
              "      <td>0</td>\n",
              "      <td>0</td>\n",
              "      <td>0</td>\n",
              "      <td>0</td>\n",
              "      <td>0</td>\n",
              "      <td>0</td>\n",
              "      <td>0</td>\n",
              "      <td>0</td>\n",
              "      <td>0</td>\n",
              "      <td>0</td>\n",
              "      <td>0</td>\n",
              "      <td>0</td>\n",
              "      <td>0</td>\n",
              "      <td>0</td>\n",
              "      <td>0</td>\n",
              "      <td>0</td>\n",
              "      <td>0</td>\n",
              "      <td>0</td>\n",
              "      <td>0</td>\n",
              "      <td>0</td>\n",
              "      <td>...</td>\n",
              "      <td>1</td>\n",
              "      <td>0</td>\n",
              "      <td>0</td>\n",
              "      <td>0</td>\n",
              "      <td>0</td>\n",
              "      <td>0</td>\n",
              "      <td>0</td>\n",
              "      <td>0</td>\n",
              "      <td>0</td>\n",
              "      <td>0</td>\n",
              "      <td>0</td>\n",
              "      <td>0</td>\n",
              "      <td>0</td>\n",
              "      <td>0</td>\n",
              "      <td>0</td>\n",
              "      <td>0</td>\n",
              "      <td>0</td>\n",
              "      <td>0</td>\n",
              "      <td>0</td>\n",
              "      <td>0</td>\n",
              "      <td>0</td>\n",
              "      <td>1</td>\n",
              "      <td>1</td>\n",
              "      <td>0</td>\n",
              "      <td>0</td>\n",
              "      <td>0</td>\n",
              "      <td>0</td>\n",
              "      <td>0</td>\n",
              "      <td>0</td>\n",
              "      <td>0</td>\n",
              "      <td>0</td>\n",
              "      <td>0</td>\n",
              "      <td>0</td>\n",
              "      <td>1</td>\n",
              "      <td>0</td>\n",
              "      <td>0</td>\n",
              "      <td>1</td>\n",
              "      <td>0</td>\n",
              "      <td>0</td>\n",
              "      <td>0</td>\n",
              "    </tr>\n",
              "    <tr>\n",
              "      <th>3</th>\n",
              "      <td>8</td>\n",
              "      <td>17</td>\n",
              "      <td>142</td>\n",
              "      <td>0</td>\n",
              "      <td>0</td>\n",
              "      <td>0</td>\n",
              "      <td>0</td>\n",
              "      <td>0</td>\n",
              "      <td>0</td>\n",
              "      <td>0</td>\n",
              "      <td>0</td>\n",
              "      <td>0</td>\n",
              "      <td>0</td>\n",
              "      <td>0</td>\n",
              "      <td>0</td>\n",
              "      <td>0</td>\n",
              "      <td>0</td>\n",
              "      <td>0</td>\n",
              "      <td>0</td>\n",
              "      <td>0</td>\n",
              "      <td>0</td>\n",
              "      <td>0</td>\n",
              "      <td>0</td>\n",
              "      <td>0</td>\n",
              "      <td>0</td>\n",
              "      <td>0</td>\n",
              "      <td>0</td>\n",
              "      <td>0</td>\n",
              "      <td>0</td>\n",
              "      <td>0</td>\n",
              "      <td>0</td>\n",
              "      <td>0</td>\n",
              "      <td>0</td>\n",
              "      <td>0</td>\n",
              "      <td>1</td>\n",
              "      <td>0</td>\n",
              "      <td>0</td>\n",
              "      <td>0</td>\n",
              "      <td>0</td>\n",
              "      <td>0</td>\n",
              "      <td>...</td>\n",
              "      <td>0</td>\n",
              "      <td>0</td>\n",
              "      <td>0</td>\n",
              "      <td>0</td>\n",
              "      <td>0</td>\n",
              "      <td>0</td>\n",
              "      <td>0</td>\n",
              "      <td>0</td>\n",
              "      <td>0</td>\n",
              "      <td>0</td>\n",
              "      <td>0</td>\n",
              "      <td>0</td>\n",
              "      <td>0</td>\n",
              "      <td>0</td>\n",
              "      <td>0</td>\n",
              "      <td>0</td>\n",
              "      <td>0</td>\n",
              "      <td>0</td>\n",
              "      <td>0</td>\n",
              "      <td>1</td>\n",
              "      <td>0</td>\n",
              "      <td>0</td>\n",
              "      <td>1</td>\n",
              "      <td>0</td>\n",
              "      <td>0</td>\n",
              "      <td>0</td>\n",
              "      <td>0</td>\n",
              "      <td>1</td>\n",
              "      <td>0</td>\n",
              "      <td>0</td>\n",
              "      <td>0</td>\n",
              "      <td>0</td>\n",
              "      <td>0</td>\n",
              "      <td>0</td>\n",
              "      <td>0</td>\n",
              "      <td>0</td>\n",
              "      <td>0</td>\n",
              "      <td>0</td>\n",
              "      <td>0</td>\n",
              "      <td>0</td>\n",
              "    </tr>\n",
              "    <tr>\n",
              "      <th>4</th>\n",
              "      <td>8</td>\n",
              "      <td>16</td>\n",
              "      <td>163</td>\n",
              "      <td>0</td>\n",
              "      <td>0</td>\n",
              "      <td>0</td>\n",
              "      <td>0</td>\n",
              "      <td>0</td>\n",
              "      <td>0</td>\n",
              "      <td>0</td>\n",
              "      <td>0</td>\n",
              "      <td>0</td>\n",
              "      <td>0</td>\n",
              "      <td>0</td>\n",
              "      <td>0</td>\n",
              "      <td>0</td>\n",
              "      <td>0</td>\n",
              "      <td>0</td>\n",
              "      <td>0</td>\n",
              "      <td>0</td>\n",
              "      <td>0</td>\n",
              "      <td>0</td>\n",
              "      <td>0</td>\n",
              "      <td>0</td>\n",
              "      <td>0</td>\n",
              "      <td>0</td>\n",
              "      <td>0</td>\n",
              "      <td>0</td>\n",
              "      <td>0</td>\n",
              "      <td>0</td>\n",
              "      <td>0</td>\n",
              "      <td>0</td>\n",
              "      <td>0</td>\n",
              "      <td>0</td>\n",
              "      <td>0</td>\n",
              "      <td>0</td>\n",
              "      <td>0</td>\n",
              "      <td>0</td>\n",
              "      <td>0</td>\n",
              "      <td>0</td>\n",
              "      <td>...</td>\n",
              "      <td>0</td>\n",
              "      <td>0</td>\n",
              "      <td>0</td>\n",
              "      <td>0</td>\n",
              "      <td>0</td>\n",
              "      <td>0</td>\n",
              "      <td>0</td>\n",
              "      <td>0</td>\n",
              "      <td>0</td>\n",
              "      <td>0</td>\n",
              "      <td>0</td>\n",
              "      <td>0</td>\n",
              "      <td>1</td>\n",
              "      <td>0</td>\n",
              "      <td>0</td>\n",
              "      <td>0</td>\n",
              "      <td>0</td>\n",
              "      <td>0</td>\n",
              "      <td>0</td>\n",
              "      <td>0</td>\n",
              "      <td>0</td>\n",
              "      <td>1</td>\n",
              "      <td>0</td>\n",
              "      <td>0</td>\n",
              "      <td>0</td>\n",
              "      <td>0</td>\n",
              "      <td>0</td>\n",
              "      <td>0</td>\n",
              "      <td>0</td>\n",
              "      <td>0</td>\n",
              "      <td>0</td>\n",
              "      <td>0</td>\n",
              "      <td>0</td>\n",
              "      <td>1</td>\n",
              "      <td>0</td>\n",
              "      <td>1</td>\n",
              "      <td>0</td>\n",
              "      <td>0</td>\n",
              "      <td>0</td>\n",
              "      <td>0</td>\n",
              "    </tr>\n",
              "  </tbody>\n",
              "</table>\n",
              "<p>5 rows × 90 columns</p>\n",
              "</div>"
            ],
            "text/plain": [
              "   yearsExperience  milesFromMetropolis  ...  industry_SERVICE  industry_WEB\n",
              "0               10                   83  ...                 0             0\n",
              "1                3                   73  ...                 0             1\n",
              "2               10                   38  ...                 0             0\n",
              "3                8                   17  ...                 0             0\n",
              "4                8                   16  ...                 0             0\n",
              "\n",
              "[5 rows x 90 columns]"
            ]
          },
          "metadata": {
            "tags": []
          },
          "execution_count": 33
        }
      ]
    },
    {
      "cell_type": "code",
      "metadata": {
        "id": "dzrKgVJpUDnQ"
      },
      "source": [
        "#identify the feature and target values\n",
        "target_value=dataset_df['salary']\n",
        "feature_value=dataset_df.drop(['salary'],axis=1)"
      ],
      "execution_count": 34,
      "outputs": []
    },
    {
      "cell_type": "code",
      "metadata": {
        "id": "2QEEIGuCVVDR"
      },
      "source": [
        "from sklearn.preprocessing import StandardScaler\n",
        "#feature scaling_standardization\n",
        "scaler = StandardScaler()\n",
        "feature_value = scaler.fit_transform(feature_value)\n"
      ],
      "execution_count": 35,
      "outputs": []
    },
    {
      "cell_type": "code",
      "metadata": {
        "id": "pD3c0cT8ZAuN"
      },
      "source": [
        "from sklearn.model_selection import train_test_split\n",
        "x_train,x_val,y_train,y_val = train_test_split(feature_value,target_value,test_size =0.30)\n",
        "#split the dataset into train and test data \n",
        "#x_train represents the feature value of training data\n",
        "#x_val represents the feature value of validation test data\n",
        "#y_train represents the target value of training data\n",
        "#y_test represents the target value of validation test data"
      ],
      "execution_count": 36,
      "outputs": []
    },
    {
      "cell_type": "markdown",
      "metadata": {
        "id": "Xpf6r86VUh_t"
      },
      "source": [
        "**Develop A Baseline Model**"
      ]
    },
    {
      "cell_type": "markdown",
      "metadata": {
        "id": "Q0GrsvZ5L38N"
      },
      "source": [
        "A baseline result is the simplest possible prediction.Baseline model is the one which requires no predictive model and its like an informed guess. For instance, in this case, lets predict the salary as the overall average salary.The baseline model of choice here is Linear Regression."
      ]
    },
    {
      "cell_type": "markdown",
      "metadata": {
        "id": "PFAG3OZ0h9_A"
      },
      "source": [
        "**Building the choice models**"
      ]
    },
    {
      "cell_type": "code",
      "metadata": {
        "id": "udc10VhGezi1"
      },
      "source": [
        "from sklearn import  metrics\n",
        "from sklearn.metrics import mean_squared_error\n",
        "from sklearn.model_selection import cross_val_score\n",
        "def modelfit(alg,features,target):\n",
        "    #Fit the algorithm on the data\n",
        "    alg.fit(features, target)\n",
        "        \n",
        "    #Predict training set:\n",
        "    predictions = alg.predict(features)\n",
        "\n",
        "    #Perform cross-validation:\n",
        "    cv_score = cross_val_score(alg,features, target, cv=5, scoring=\"neg_mean_squared_error\")\n",
        "    cv_score = np.sqrt(np.abs(cv_score))\n",
        "    \n",
        "    #Print model report:\n",
        "    print (\"\\nModel Report\")\n",
        "    print (\"RMSE : %.4g\" % np.sqrt(metrics.mean_squared_error(target.values,predictions)))\n",
        "    #print (\"RMSE : %.4g\" %metrics.mean_squared_error(target.values,predictions))\n",
        "    print ( \"CV Score : Mean - %.4g | Std - %.4g | Min - %.4g | Max - %.4g\" % (np.mean(cv_score),np.std(cv_score),np.min(cv_score),np.max(cv_score)))\n",
        "    \n",
        "   "
      ],
      "execution_count": 37,
      "outputs": []
    },
    {
      "cell_type": "code",
      "metadata": {
        "id": "R0JVGmZ9gySi",
        "outputId": "e9da9224-8459-4b1d-ce9f-3b509eaef977",
        "colab": {
          "base_uri": "https://localhost:8080/",
          "height": 85
        }
      },
      "source": [
        "from sklearn.linear_model import LinearRegression\n",
        "alg1 = LinearRegression(normalize=True)\n",
        "modelfit(alg1,feature_value,target_value)\n"
      ],
      "execution_count": 38,
      "outputs": [
        {
          "output_type": "stream",
          "text": [
            "\n",
            "Model Report\n",
            "RMSE : 19.61\n",
            "CV Score : Mean - 19.61 | Std - 0.04455 | Min - 19.55 | Max - 19.66\n"
          ],
          "name": "stdout"
        }
      ]
    },
    {
      "cell_type": "code",
      "metadata": {
        "id": "wsJcPmzJEE3e",
        "outputId": "730d108f-7cc5-4bb5-ffad-8ac438f732b5",
        "colab": {
          "base_uri": "https://localhost:8080/",
          "height": 85
        }
      },
      "source": [
        "from sklearn import tree\n",
        "alg2=tree.DecisionTreeRegressor()\n",
        "modelfit(alg2,feature_value,target_value)"
      ],
      "execution_count": 39,
      "outputs": [
        {
          "output_type": "stream",
          "text": [
            "\n",
            "Model Report\n",
            "RMSE : 1.432\n",
            "CV Score : Mean - 26.56 | Std - 0.05951 | Min - 26.48 | Max - 26.63\n"
          ],
          "name": "stdout"
        }
      ]
    },
    {
      "cell_type": "code",
      "metadata": {
        "id": "wCfg_rOk-jCm",
        "outputId": "32c47f86-3480-4a2d-c47a-d4c98482591e",
        "colab": {
          "base_uri": "https://localhost:8080/",
          "height": 85
        }
      },
      "source": [
        "from sklearn.ensemble import GradientBoostingRegressor\n",
        "alg3 =GradientBoostingRegressor(n_estimators=150,max_depth=5)\n",
        "modelfit(alg3,feature_value,target_value)"
      ],
      "execution_count": 40,
      "outputs": [
        {
          "output_type": "stream",
          "text": [
            "\n",
            "Model Report\n",
            "RMSE : 18.93\n",
            "CV Score : Mean - 18.98 | Std - 0.03998 | Min - 18.92 | Max - 19.02\n"
          ],
          "name": "stdout"
        }
      ]
    },
    {
      "cell_type": "markdown",
      "metadata": {
        "id": "RN04PX3X_XWb"
      },
      "source": [
        "**Deploy**"
      ]
    },
    {
      "cell_type": "code",
      "metadata": {
        "id": "j8cN-irrE3x-"
      },
      "source": [
        "import joblib\n",
        "joblib_file =\"gb_salary_model.pk1\"\n",
        "joblib.dump(alg3,joblib_file)\n",
        "\n",
        "#loading the saved model\n",
        "models=joblib.load(\"gb_salary_model.pk1\")\n"
      ],
      "execution_count": 46,
      "outputs": []
    },
    {
      "cell_type": "code",
      "metadata": {
        "id": "WJ0yBq0H7EIh",
        "outputId": "fc0fbfc8-a0fd-4665-d364-654d1ad9e3a1",
        "colab": {
          "base_uri": "https://localhost:8080/",
          "height": 493
        }
      },
      "source": [
        "#checking for duplicate jobId rows as jobID should be unique for everyone in the organisation.\n",
        "test_df_no_duplicates=test_features.drop('jobId',axis=1).drop_duplicates()\n",
        "print(test_features)\n",
        "print(test_df_no_duplicates)"
      ],
      "execution_count": 42,
      "outputs": [
        {
          "output_type": "stream",
          "text": [
            "                   jobId companyId  ... yearsExperience milesFromMetropolis\n",
            "0       JOB1362685407687    COMP33  ...              22                  73\n",
            "1       JOB1362685407688    COMP13  ...              20                  47\n",
            "2       JOB1362685407689    COMP10  ...              17                   9\n",
            "3       JOB1362685407690    COMP21  ...              14                  96\n",
            "4       JOB1362685407691    COMP36  ...              10                  44\n",
            "...                  ...       ...  ...             ...                 ...\n",
            "999995  JOB1362686407682    COMP54  ...              14                   3\n",
            "999996  JOB1362686407683     COMP5  ...              20                  67\n",
            "999997  JOB1362686407684    COMP61  ...               1                  91\n",
            "999998  JOB1362686407685    COMP19  ...              14                  63\n",
            "999999  JOB1362686407686    COMP34  ...              16                  31\n",
            "\n",
            "[1000000 rows x 8 columns]\n",
            "       companyId         jobType  ... yearsExperience milesFromMetropolis\n",
            "0         COMP33         MANAGER  ...              22                  73\n",
            "1         COMP13          JUNIOR  ...              20                  47\n",
            "2         COMP10             CTO  ...              17                   9\n",
            "3         COMP21         MANAGER  ...              14                  96\n",
            "4         COMP36          JUNIOR  ...              10                  44\n",
            "...          ...             ...  ...             ...                 ...\n",
            "999995    COMP54  VICE_PRESIDENT  ...              14                   3\n",
            "999996     COMP5         MANAGER  ...              20                  67\n",
            "999997    COMP61         JANITOR  ...               1                  91\n",
            "999998    COMP19             CTO  ...              14                  63\n",
            "999999    COMP34          JUNIOR  ...              16                  31\n",
            "\n",
            "[991954 rows x 7 columns]\n"
          ],
          "name": "stdout"
        }
      ]
    },
    {
      "cell_type": "code",
      "metadata": {
        "id": "wX0skJ_5Xn-2"
      },
      "source": [
        "df_test=test_df_no_duplicates"
      ],
      "execution_count": 43,
      "outputs": []
    },
    {
      "cell_type": "code",
      "metadata": {
        "id": "dgUhg6gw75gF",
        "outputId": "a89726de-2020-403b-a126-78a81a84467e",
        "colab": {
          "base_uri": "https://localhost:8080/",
          "height": 253
        }
      },
      "source": [
        "#one hot encoding\n",
        "import pandas as pd\n",
        "\n",
        "categorial = ['companyId','jobType','degree','major','industry']\n",
        "df_test= pd.get_dummies(df_test, columns=categorial, drop_first=True)\n",
        "\n",
        "df_test.head()\n"
      ],
      "execution_count": 44,
      "outputs": [
        {
          "output_type": "execute_result",
          "data": {
            "text/html": [
              "<div>\n",
              "<style scoped>\n",
              "    .dataframe tbody tr th:only-of-type {\n",
              "        vertical-align: middle;\n",
              "    }\n",
              "\n",
              "    .dataframe tbody tr th {\n",
              "        vertical-align: top;\n",
              "    }\n",
              "\n",
              "    .dataframe thead th {\n",
              "        text-align: right;\n",
              "    }\n",
              "</style>\n",
              "<table border=\"1\" class=\"dataframe\">\n",
              "  <thead>\n",
              "    <tr style=\"text-align: right;\">\n",
              "      <th></th>\n",
              "      <th>yearsExperience</th>\n",
              "      <th>milesFromMetropolis</th>\n",
              "      <th>companyId_COMP1</th>\n",
              "      <th>companyId_COMP10</th>\n",
              "      <th>companyId_COMP11</th>\n",
              "      <th>companyId_COMP12</th>\n",
              "      <th>companyId_COMP13</th>\n",
              "      <th>companyId_COMP14</th>\n",
              "      <th>companyId_COMP15</th>\n",
              "      <th>companyId_COMP16</th>\n",
              "      <th>companyId_COMP17</th>\n",
              "      <th>companyId_COMP18</th>\n",
              "      <th>companyId_COMP19</th>\n",
              "      <th>companyId_COMP2</th>\n",
              "      <th>companyId_COMP20</th>\n",
              "      <th>companyId_COMP21</th>\n",
              "      <th>companyId_COMP22</th>\n",
              "      <th>companyId_COMP23</th>\n",
              "      <th>companyId_COMP24</th>\n",
              "      <th>companyId_COMP25</th>\n",
              "      <th>companyId_COMP26</th>\n",
              "      <th>companyId_COMP27</th>\n",
              "      <th>companyId_COMP28</th>\n",
              "      <th>companyId_COMP29</th>\n",
              "      <th>companyId_COMP3</th>\n",
              "      <th>companyId_COMP30</th>\n",
              "      <th>companyId_COMP31</th>\n",
              "      <th>companyId_COMP32</th>\n",
              "      <th>companyId_COMP33</th>\n",
              "      <th>companyId_COMP34</th>\n",
              "      <th>companyId_COMP35</th>\n",
              "      <th>companyId_COMP36</th>\n",
              "      <th>companyId_COMP37</th>\n",
              "      <th>companyId_COMP38</th>\n",
              "      <th>companyId_COMP39</th>\n",
              "      <th>companyId_COMP4</th>\n",
              "      <th>companyId_COMP40</th>\n",
              "      <th>companyId_COMP41</th>\n",
              "      <th>companyId_COMP42</th>\n",
              "      <th>companyId_COMP43</th>\n",
              "      <th>...</th>\n",
              "      <th>companyId_COMP52</th>\n",
              "      <th>companyId_COMP53</th>\n",
              "      <th>companyId_COMP54</th>\n",
              "      <th>companyId_COMP55</th>\n",
              "      <th>companyId_COMP56</th>\n",
              "      <th>companyId_COMP57</th>\n",
              "      <th>companyId_COMP58</th>\n",
              "      <th>companyId_COMP59</th>\n",
              "      <th>companyId_COMP6</th>\n",
              "      <th>companyId_COMP60</th>\n",
              "      <th>companyId_COMP61</th>\n",
              "      <th>companyId_COMP62</th>\n",
              "      <th>companyId_COMP7</th>\n",
              "      <th>companyId_COMP8</th>\n",
              "      <th>companyId_COMP9</th>\n",
              "      <th>jobType_CFO</th>\n",
              "      <th>jobType_CTO</th>\n",
              "      <th>jobType_JANITOR</th>\n",
              "      <th>jobType_JUNIOR</th>\n",
              "      <th>jobType_MANAGER</th>\n",
              "      <th>jobType_SENIOR</th>\n",
              "      <th>jobType_VICE_PRESIDENT</th>\n",
              "      <th>degree_DOCTORAL</th>\n",
              "      <th>degree_HIGH_SCHOOL</th>\n",
              "      <th>degree_MASTERS</th>\n",
              "      <th>degree_NONE</th>\n",
              "      <th>major_BUSINESS</th>\n",
              "      <th>major_CHEMISTRY</th>\n",
              "      <th>major_COMPSCI</th>\n",
              "      <th>major_ENGINEERING</th>\n",
              "      <th>major_LITERATURE</th>\n",
              "      <th>major_MATH</th>\n",
              "      <th>major_NONE</th>\n",
              "      <th>major_PHYSICS</th>\n",
              "      <th>industry_EDUCATION</th>\n",
              "      <th>industry_FINANCE</th>\n",
              "      <th>industry_HEALTH</th>\n",
              "      <th>industry_OIL</th>\n",
              "      <th>industry_SERVICE</th>\n",
              "      <th>industry_WEB</th>\n",
              "    </tr>\n",
              "  </thead>\n",
              "  <tbody>\n",
              "    <tr>\n",
              "      <th>0</th>\n",
              "      <td>22</td>\n",
              "      <td>73</td>\n",
              "      <td>0</td>\n",
              "      <td>0</td>\n",
              "      <td>0</td>\n",
              "      <td>0</td>\n",
              "      <td>0</td>\n",
              "      <td>0</td>\n",
              "      <td>0</td>\n",
              "      <td>0</td>\n",
              "      <td>0</td>\n",
              "      <td>0</td>\n",
              "      <td>0</td>\n",
              "      <td>0</td>\n",
              "      <td>0</td>\n",
              "      <td>0</td>\n",
              "      <td>0</td>\n",
              "      <td>0</td>\n",
              "      <td>0</td>\n",
              "      <td>0</td>\n",
              "      <td>0</td>\n",
              "      <td>0</td>\n",
              "      <td>0</td>\n",
              "      <td>0</td>\n",
              "      <td>0</td>\n",
              "      <td>0</td>\n",
              "      <td>0</td>\n",
              "      <td>0</td>\n",
              "      <td>1</td>\n",
              "      <td>0</td>\n",
              "      <td>0</td>\n",
              "      <td>0</td>\n",
              "      <td>0</td>\n",
              "      <td>0</td>\n",
              "      <td>0</td>\n",
              "      <td>0</td>\n",
              "      <td>0</td>\n",
              "      <td>0</td>\n",
              "      <td>0</td>\n",
              "      <td>0</td>\n",
              "      <td>...</td>\n",
              "      <td>0</td>\n",
              "      <td>0</td>\n",
              "      <td>0</td>\n",
              "      <td>0</td>\n",
              "      <td>0</td>\n",
              "      <td>0</td>\n",
              "      <td>0</td>\n",
              "      <td>0</td>\n",
              "      <td>0</td>\n",
              "      <td>0</td>\n",
              "      <td>0</td>\n",
              "      <td>0</td>\n",
              "      <td>0</td>\n",
              "      <td>0</td>\n",
              "      <td>0</td>\n",
              "      <td>0</td>\n",
              "      <td>0</td>\n",
              "      <td>0</td>\n",
              "      <td>0</td>\n",
              "      <td>1</td>\n",
              "      <td>0</td>\n",
              "      <td>0</td>\n",
              "      <td>0</td>\n",
              "      <td>1</td>\n",
              "      <td>0</td>\n",
              "      <td>0</td>\n",
              "      <td>0</td>\n",
              "      <td>0</td>\n",
              "      <td>0</td>\n",
              "      <td>0</td>\n",
              "      <td>0</td>\n",
              "      <td>0</td>\n",
              "      <td>1</td>\n",
              "      <td>0</td>\n",
              "      <td>0</td>\n",
              "      <td>0</td>\n",
              "      <td>1</td>\n",
              "      <td>0</td>\n",
              "      <td>0</td>\n",
              "      <td>0</td>\n",
              "    </tr>\n",
              "    <tr>\n",
              "      <th>1</th>\n",
              "      <td>20</td>\n",
              "      <td>47</td>\n",
              "      <td>0</td>\n",
              "      <td>0</td>\n",
              "      <td>0</td>\n",
              "      <td>0</td>\n",
              "      <td>1</td>\n",
              "      <td>0</td>\n",
              "      <td>0</td>\n",
              "      <td>0</td>\n",
              "      <td>0</td>\n",
              "      <td>0</td>\n",
              "      <td>0</td>\n",
              "      <td>0</td>\n",
              "      <td>0</td>\n",
              "      <td>0</td>\n",
              "      <td>0</td>\n",
              "      <td>0</td>\n",
              "      <td>0</td>\n",
              "      <td>0</td>\n",
              "      <td>0</td>\n",
              "      <td>0</td>\n",
              "      <td>0</td>\n",
              "      <td>0</td>\n",
              "      <td>0</td>\n",
              "      <td>0</td>\n",
              "      <td>0</td>\n",
              "      <td>0</td>\n",
              "      <td>0</td>\n",
              "      <td>0</td>\n",
              "      <td>0</td>\n",
              "      <td>0</td>\n",
              "      <td>0</td>\n",
              "      <td>0</td>\n",
              "      <td>0</td>\n",
              "      <td>0</td>\n",
              "      <td>0</td>\n",
              "      <td>0</td>\n",
              "      <td>0</td>\n",
              "      <td>0</td>\n",
              "      <td>...</td>\n",
              "      <td>0</td>\n",
              "      <td>0</td>\n",
              "      <td>0</td>\n",
              "      <td>0</td>\n",
              "      <td>0</td>\n",
              "      <td>0</td>\n",
              "      <td>0</td>\n",
              "      <td>0</td>\n",
              "      <td>0</td>\n",
              "      <td>0</td>\n",
              "      <td>0</td>\n",
              "      <td>0</td>\n",
              "      <td>0</td>\n",
              "      <td>0</td>\n",
              "      <td>0</td>\n",
              "      <td>0</td>\n",
              "      <td>0</td>\n",
              "      <td>0</td>\n",
              "      <td>1</td>\n",
              "      <td>0</td>\n",
              "      <td>0</td>\n",
              "      <td>0</td>\n",
              "      <td>0</td>\n",
              "      <td>0</td>\n",
              "      <td>0</td>\n",
              "      <td>1</td>\n",
              "      <td>0</td>\n",
              "      <td>0</td>\n",
              "      <td>0</td>\n",
              "      <td>0</td>\n",
              "      <td>0</td>\n",
              "      <td>0</td>\n",
              "      <td>1</td>\n",
              "      <td>0</td>\n",
              "      <td>0</td>\n",
              "      <td>0</td>\n",
              "      <td>0</td>\n",
              "      <td>0</td>\n",
              "      <td>0</td>\n",
              "      <td>0</td>\n",
              "    </tr>\n",
              "    <tr>\n",
              "      <th>2</th>\n",
              "      <td>17</td>\n",
              "      <td>9</td>\n",
              "      <td>0</td>\n",
              "      <td>1</td>\n",
              "      <td>0</td>\n",
              "      <td>0</td>\n",
              "      <td>0</td>\n",
              "      <td>0</td>\n",
              "      <td>0</td>\n",
              "      <td>0</td>\n",
              "      <td>0</td>\n",
              "      <td>0</td>\n",
              "      <td>0</td>\n",
              "      <td>0</td>\n",
              "      <td>0</td>\n",
              "      <td>0</td>\n",
              "      <td>0</td>\n",
              "      <td>0</td>\n",
              "      <td>0</td>\n",
              "      <td>0</td>\n",
              "      <td>0</td>\n",
              "      <td>0</td>\n",
              "      <td>0</td>\n",
              "      <td>0</td>\n",
              "      <td>0</td>\n",
              "      <td>0</td>\n",
              "      <td>0</td>\n",
              "      <td>0</td>\n",
              "      <td>0</td>\n",
              "      <td>0</td>\n",
              "      <td>0</td>\n",
              "      <td>0</td>\n",
              "      <td>0</td>\n",
              "      <td>0</td>\n",
              "      <td>0</td>\n",
              "      <td>0</td>\n",
              "      <td>0</td>\n",
              "      <td>0</td>\n",
              "      <td>0</td>\n",
              "      <td>0</td>\n",
              "      <td>...</td>\n",
              "      <td>0</td>\n",
              "      <td>0</td>\n",
              "      <td>0</td>\n",
              "      <td>0</td>\n",
              "      <td>0</td>\n",
              "      <td>0</td>\n",
              "      <td>0</td>\n",
              "      <td>0</td>\n",
              "      <td>0</td>\n",
              "      <td>0</td>\n",
              "      <td>0</td>\n",
              "      <td>0</td>\n",
              "      <td>0</td>\n",
              "      <td>0</td>\n",
              "      <td>0</td>\n",
              "      <td>0</td>\n",
              "      <td>1</td>\n",
              "      <td>0</td>\n",
              "      <td>0</td>\n",
              "      <td>0</td>\n",
              "      <td>0</td>\n",
              "      <td>0</td>\n",
              "      <td>0</td>\n",
              "      <td>0</td>\n",
              "      <td>1</td>\n",
              "      <td>0</td>\n",
              "      <td>0</td>\n",
              "      <td>0</td>\n",
              "      <td>0</td>\n",
              "      <td>0</td>\n",
              "      <td>0</td>\n",
              "      <td>0</td>\n",
              "      <td>0</td>\n",
              "      <td>0</td>\n",
              "      <td>0</td>\n",
              "      <td>0</td>\n",
              "      <td>1</td>\n",
              "      <td>0</td>\n",
              "      <td>0</td>\n",
              "      <td>0</td>\n",
              "    </tr>\n",
              "    <tr>\n",
              "      <th>3</th>\n",
              "      <td>14</td>\n",
              "      <td>96</td>\n",
              "      <td>0</td>\n",
              "      <td>0</td>\n",
              "      <td>0</td>\n",
              "      <td>0</td>\n",
              "      <td>0</td>\n",
              "      <td>0</td>\n",
              "      <td>0</td>\n",
              "      <td>0</td>\n",
              "      <td>0</td>\n",
              "      <td>0</td>\n",
              "      <td>0</td>\n",
              "      <td>0</td>\n",
              "      <td>0</td>\n",
              "      <td>1</td>\n",
              "      <td>0</td>\n",
              "      <td>0</td>\n",
              "      <td>0</td>\n",
              "      <td>0</td>\n",
              "      <td>0</td>\n",
              "      <td>0</td>\n",
              "      <td>0</td>\n",
              "      <td>0</td>\n",
              "      <td>0</td>\n",
              "      <td>0</td>\n",
              "      <td>0</td>\n",
              "      <td>0</td>\n",
              "      <td>0</td>\n",
              "      <td>0</td>\n",
              "      <td>0</td>\n",
              "      <td>0</td>\n",
              "      <td>0</td>\n",
              "      <td>0</td>\n",
              "      <td>0</td>\n",
              "      <td>0</td>\n",
              "      <td>0</td>\n",
              "      <td>0</td>\n",
              "      <td>0</td>\n",
              "      <td>0</td>\n",
              "      <td>...</td>\n",
              "      <td>0</td>\n",
              "      <td>0</td>\n",
              "      <td>0</td>\n",
              "      <td>0</td>\n",
              "      <td>0</td>\n",
              "      <td>0</td>\n",
              "      <td>0</td>\n",
              "      <td>0</td>\n",
              "      <td>0</td>\n",
              "      <td>0</td>\n",
              "      <td>0</td>\n",
              "      <td>0</td>\n",
              "      <td>0</td>\n",
              "      <td>0</td>\n",
              "      <td>0</td>\n",
              "      <td>0</td>\n",
              "      <td>0</td>\n",
              "      <td>0</td>\n",
              "      <td>0</td>\n",
              "      <td>1</td>\n",
              "      <td>0</td>\n",
              "      <td>0</td>\n",
              "      <td>0</td>\n",
              "      <td>1</td>\n",
              "      <td>0</td>\n",
              "      <td>0</td>\n",
              "      <td>0</td>\n",
              "      <td>0</td>\n",
              "      <td>0</td>\n",
              "      <td>0</td>\n",
              "      <td>0</td>\n",
              "      <td>0</td>\n",
              "      <td>1</td>\n",
              "      <td>0</td>\n",
              "      <td>0</td>\n",
              "      <td>0</td>\n",
              "      <td>0</td>\n",
              "      <td>1</td>\n",
              "      <td>0</td>\n",
              "      <td>0</td>\n",
              "    </tr>\n",
              "    <tr>\n",
              "      <th>4</th>\n",
              "      <td>10</td>\n",
              "      <td>44</td>\n",
              "      <td>0</td>\n",
              "      <td>0</td>\n",
              "      <td>0</td>\n",
              "      <td>0</td>\n",
              "      <td>0</td>\n",
              "      <td>0</td>\n",
              "      <td>0</td>\n",
              "      <td>0</td>\n",
              "      <td>0</td>\n",
              "      <td>0</td>\n",
              "      <td>0</td>\n",
              "      <td>0</td>\n",
              "      <td>0</td>\n",
              "      <td>0</td>\n",
              "      <td>0</td>\n",
              "      <td>0</td>\n",
              "      <td>0</td>\n",
              "      <td>0</td>\n",
              "      <td>0</td>\n",
              "      <td>0</td>\n",
              "      <td>0</td>\n",
              "      <td>0</td>\n",
              "      <td>0</td>\n",
              "      <td>0</td>\n",
              "      <td>0</td>\n",
              "      <td>0</td>\n",
              "      <td>0</td>\n",
              "      <td>0</td>\n",
              "      <td>0</td>\n",
              "      <td>1</td>\n",
              "      <td>0</td>\n",
              "      <td>0</td>\n",
              "      <td>0</td>\n",
              "      <td>0</td>\n",
              "      <td>0</td>\n",
              "      <td>0</td>\n",
              "      <td>0</td>\n",
              "      <td>0</td>\n",
              "      <td>...</td>\n",
              "      <td>0</td>\n",
              "      <td>0</td>\n",
              "      <td>0</td>\n",
              "      <td>0</td>\n",
              "      <td>0</td>\n",
              "      <td>0</td>\n",
              "      <td>0</td>\n",
              "      <td>0</td>\n",
              "      <td>0</td>\n",
              "      <td>0</td>\n",
              "      <td>0</td>\n",
              "      <td>0</td>\n",
              "      <td>0</td>\n",
              "      <td>0</td>\n",
              "      <td>0</td>\n",
              "      <td>0</td>\n",
              "      <td>0</td>\n",
              "      <td>0</td>\n",
              "      <td>1</td>\n",
              "      <td>0</td>\n",
              "      <td>0</td>\n",
              "      <td>0</td>\n",
              "      <td>1</td>\n",
              "      <td>0</td>\n",
              "      <td>0</td>\n",
              "      <td>0</td>\n",
              "      <td>0</td>\n",
              "      <td>0</td>\n",
              "      <td>0</td>\n",
              "      <td>0</td>\n",
              "      <td>0</td>\n",
              "      <td>0</td>\n",
              "      <td>0</td>\n",
              "      <td>0</td>\n",
              "      <td>0</td>\n",
              "      <td>0</td>\n",
              "      <td>0</td>\n",
              "      <td>1</td>\n",
              "      <td>0</td>\n",
              "      <td>0</td>\n",
              "    </tr>\n",
              "  </tbody>\n",
              "</table>\n",
              "<p>5 rows × 89 columns</p>\n",
              "</div>"
            ],
            "text/plain": [
              "   yearsExperience  milesFromMetropolis  ...  industry_SERVICE  industry_WEB\n",
              "0               22                   73  ...                 0             0\n",
              "1               20                   47  ...                 0             0\n",
              "2               17                    9  ...                 0             0\n",
              "3               14                   96  ...                 0             0\n",
              "4               10                   44  ...                 0             0\n",
              "\n",
              "[5 rows x 89 columns]"
            ]
          },
          "metadata": {
            "tags": []
          },
          "execution_count": 44
        }
      ]
    },
    {
      "cell_type": "code",
      "metadata": {
        "id": "3_ZsG9GGYELX"
      },
      "source": [
        "#scoring the test dataset\n",
        "salary_predictions =models.predict(df_test)\n",
        "\n",
        "#saving the predictions\n",
        "np.savetxt('salary_predictions.csv',salary_predictions,delimiter=',')"
      ],
      "execution_count": 47,
      "outputs": []
    },
    {
      "cell_type": "code",
      "metadata": {
        "id": "-ljbeNrlYr5E",
        "outputId": "cff5b7f9-d5e2-4b68-98a9-b197aa401bf0",
        "colab": {
          "base_uri": "https://localhost:8080/",
          "height": 482
        }
      },
      "source": [
        "#showing feature importance\n",
        "importances=pd.Series(models.feature_importances_,index=df_test.columns)\n",
        "importances.nlargest(10).plot(kind='bar',figsize=(12,6))\n",
        "plt.show()\n",
        "\n",
        "#saving feature importances\n",
        "np.savetxt('salary_importances.csv',importances,delimiter=',')"
      ],
      "execution_count": 50,
      "outputs": [
        {
          "output_type": "display_data",
          "data": {
            "image/png": "[encoded data removed]",
            "text/plain": [
              "<Figure size 864x432 with 1 Axes>"
            ]
          },
          "metadata": {
            "tags": []
          }
        }
      ]
    }
  ]
}